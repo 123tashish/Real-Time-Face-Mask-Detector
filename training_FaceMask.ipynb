{
  "nbformat": 4,
  "nbformat_minor": 0,
  "metadata": {
    "colab": {
      "name": "training_FaceMask.ipynb",
      "provenance": [],
      "collapsed_sections": [],
      "authorship_tag": "ABX9TyNSAZoZWT1Q3OmGuYAz3eKM",
      "include_colab_link": true
    },
    "kernelspec": {
      "name": "python3",
      "display_name": "Python 3"
    },
    "language_info": {
      "name": "python"
    }
  },
  "cells": [
    {
      "cell_type": "markdown",
      "metadata": {
        "id": "view-in-github",
        "colab_type": "text"
      },
      "source": [
        "<a href=\"https://colab.research.google.com/github/123tashish/Real-Time-Face-Mask-Detector/blob/main/training_FaceMask.ipynb\" target=\"_parent\"><img src=\"https://colab.research.google.com/assets/colab-badge.svg\" alt=\"Open In Colab\"/></a>"
      ]
    },
    {
      "cell_type": "markdown",
      "metadata": {
        "id": "o2VDwZaDQGqp"
      },
      "source": [
        "# FACE MASK DETECTOR\n",
        "## Real time system to detect that person in webcam wearing the face mask properly or not.\n",
        "***With the spirit to contribute in fighting against the current adverse situation of world, this model has been built using DEEP LEARNING to detect whether face masks are weared properly or not , as the world suffering from daily new mutations of coronavirus, despite of lots of vaccines developed , the idea has been widely accepted by the world that social distancing and wearing mask properly are the best remedies to this danger.***\n",
        "\n",
        "### Data Information\n",
        "**Consists of total 1376 images ,with 690 images wearing face masks properly while in the rest 686 images consists of people without masks.**"
      ]
    },
    {
      "cell_type": "code",
      "metadata": {
        "id": "FaBiZH4iQcQD"
      },
      "source": [
        "# Import libraries\n",
        "\n",
        "from keras.optimizers import RMSprop\n",
        "from keras.preprocessing.image import ImageDataGenerator\n",
        "import cv2\n",
        "from keras.models import Sequential\n",
        "from keras.layers import Conv2D, Input, ZeroPadding2D, BatchNormalization, Activation, MaxPooling2D, Flatten, Dense,Dropout\n",
        "from keras.models import Model, load_model\n",
        "from keras.callbacks import TensorBoard, ModelCheckpoint\n",
        "from sklearn.model_selection import train_test_split\n",
        "from sklearn.metrics import f1_score\n",
        "from sklearn.utils import shuffle\n",
        "import imutils\n",
        "import numpy as np"
      ],
      "execution_count": 1,
      "outputs": []
    },
    {
      "cell_type": "markdown",
      "metadata": {
        "id": "XyhFj-aFQ5g1"
      },
      "source": [
        "This project is built in following two parts-\n",
        "* Python script using **KERAS** to train face mask detector.\n",
        "* Testing the results in real time using webcams with the help of **OpenCV**."
      ]
    },
    {
      "cell_type": "code",
      "metadata": {
        "id": "c4B6_aUw5hL4"
      },
      "source": [
        "model = Sequential([\n",
        "    Conv2D(100, (3,3), activation='relu', input_shape=(150, 150, 3)),\n",
        "    MaxPooling2D(2,2),\n",
        "    \n",
        "    Conv2D(100, (3,3), activation='relu'),\n",
        "    MaxPooling2D(2,2),\n",
        "    \n",
        "    Flatten(),\n",
        "    Dropout(0.5),\n",
        "    Dense(50, activation='relu'),\n",
        "    Dense(2, activation='softmax')\n",
        "])\n",
        "model.compile(optimizer='adam', loss='binary_crossentropy', metrics=['acc'])"
      ],
      "execution_count": 2,
      "outputs": []
    },
    {
      "cell_type": "markdown",
      "metadata": {
        "id": "tcFK_T0dUEid"
      },
      "source": [
        "*Convolutional Neural Network(CNN)* is taken in use, consisting of two pairs of Conv and MaxPool layers to extract features from the datasets.\n",
        "\n",
        "It is then followed by a *Flatten* and *DropOut* layer to convert the data in 1D.\n",
        "\n",
        "Two Dense layers afterthen ,for classification."
      ]
    },
    {
      "cell_type": "code",
      "metadata": {
        "colab": {
          "base_uri": "https://localhost:8080/"
        },
        "id": "atMuDZ8kD0RT",
        "outputId": "f8d9eb3e-e9f0-45bb-c94d-65f5dee14302"
      },
      "source": [
        "from google.colab import drive\n",
        "drive.mount('/content/drive')\n"
      ],
      "execution_count": 3,
      "outputs": [
        {
          "output_type": "stream",
          "text": [
            "Mounted at /content/drive\n"
          ],
          "name": "stdout"
        }
      ]
    },
    {
      "cell_type": "code",
      "metadata": {
        "id": "EuWosRXXJQn1"
      },
      "source": [
        "TRAINING_DIR = '/content/drive/My Drive/train'"
      ],
      "execution_count": 4,
      "outputs": []
    },
    {
      "cell_type": "markdown",
      "metadata": {
        "id": "tqKQ0JE9JuKG"
      },
      "source": [
        "The required directory of DataSet first uploaded at google drive and from there , the data has been extracted to colab notebook."
      ]
    },
    {
      "cell_type": "code",
      "metadata": {
        "colab": {
          "base_uri": "https://localhost:8080/"
        },
        "id": "6ArSZC5yHBwp",
        "outputId": "6f6fd84a-13b5-4360-c4fa-3b03a0963f2c"
      },
      "source": [
        "import os\n",
        "os.chdir(\"/content/drive/My Drive\")\n",
        "!ls\n",
        "# to check the required file available at desired location"
      ],
      "execution_count": 5,
      "outputs": [
        {
          "output_type": "stream",
          "text": [
            " 20045091747654.pdf\n",
            "'4th semester'\n",
            "'Binary Array Sorting _ Practice _ GeeksforGeeks (2020-06-23 10_14_51 AM).gdoc'\n",
            "'Birthday 2020'\n",
            "'BTechIDCard2019 (Phase-VIII)(469).pdf'\n",
            "'Coke Piyega Tu _ Ashish tiwari Stand up Comedy _ Be serious club ( 720 X 1280 ).mp4'\n",
            "'Colab Notebooks'\n",
            " Cp\n",
            "'data structures and algorithms c++ abdul bari'\n",
            "'[FreeCourseSite.com] Udemy - Complete Machine Learning and Data Science Zero to Mastery'\n",
            " GeeksForGeeksDSA\n",
            "'Getting started.pdf'\n",
            "'google classroom'\n",
            "'IMG_20180804_214303 (1).jpg'\n",
            "'IMG_20180804_214303 (2).jpg'\n",
            " IMG_20180804_214303.jpg\n",
            " Mirzapur.S02.1080p.AMZN.WEB-DL.DDP5.1.H.264-RONIN\n",
            " Papoulis_Pillai_Probability_RandomVariables_and_Stochastic_Processes-4th_Edition_2002.gdoc\n",
            "'Programming Camp Syllabus.gdoc'\n",
            " Questionnaire.docx\n",
            " Resume-Ashish-Tiwari.pdf\n",
            " resume_final.pdf\n",
            " signature\n",
            " test\n",
            " train\n",
            "'Untitled image'\n",
            "'Untitled spreadsheet.gsheet'\n"
          ],
          "name": "stdout"
        }
      ]
    },
    {
      "cell_type": "code",
      "metadata": {
        "id": "uzOqIEpdR8Gf",
        "colab": {
          "base_uri": "https://localhost:8080/"
        },
        "outputId": "04f42e8e-2b1b-49d3-b58f-18beba1b3548"
      },
      "source": [
        "\n",
        "train_datagen = ImageDataGenerator(rescale=1.0/255,\n",
        "                                   rotation_range=40,\n",
        "                                   width_shift_range=0.2,\n",
        "                                   height_shift_range=0.2,\n",
        "                                   shear_range=0.2,\n",
        "                                   zoom_range=0.2,\n",
        "                                   horizontal_flip=True,\n",
        "                                   fill_mode='nearest')\n",
        "\n",
        "train_generator = train_datagen.flow_from_directory(TRAINING_DIR,\n",
        "                                                    target_size=(150, 150),\n",
        "                                                    batch_size = 10)\n",
        "#VALIDATION_DIR = \"./test\"\n",
        "validation_datagen = ImageDataGenerator(rescale=1.0/255)\n",
        "\n",
        "validation_generator = validation_datagen.flow_from_directory(TRAINING_DIR, \n",
        "                                                         batch_size=10, \n",
        "                                                         target_size=(150, 150))"
      ],
      "execution_count": 6,
      "outputs": [
        {
          "output_type": "stream",
          "text": [
            "Found 1182 images belonging to 2 classes.\n",
            "Found 1182 images belonging to 2 classes.\n"
          ],
          "name": "stdout"
        }
      ]
    },
    {
      "cell_type": "markdown",
      "metadata": {
        "id": "wV7gOwc4_ak0"
      },
      "source": [
        "In the previous step ,  after successfully uploading the training dataset to console now in the nextstep a callback checkpoint will be intialized to keep saving each best model after each epoch while training."
      ]
    },
    {
      "cell_type": "code",
      "metadata": {
        "id": "0_xgJ2fp_8f-"
      },
      "source": [
        "checkpoint = ModelCheckpoint('model2-{epoch:03d}.model',monitor='val_loss',verbose=0,save_best_only=True,mode='auto')"
      ],
      "execution_count": 7,
      "outputs": []
    },
    {
      "cell_type": "markdown",
      "metadata": {
        "id": "o2FAiYkTLjli"
      },
      "source": [
        "Here now, training of the model over the DataSet.\n"
      ]
    },
    {
      "cell_type": "code",
      "metadata": {
        "colab": {
          "base_uri": "https://localhost:8080/"
        },
        "id": "cpukba8PLrBN",
        "outputId": "9760c266-9fbe-4be3-cdb5-80b9ba0e2fa2"
      },
      "source": [
        "history = model.fit_generator(train_generator,\n",
        "                              epochs=10,\n",
        "                              validation_data=validation_generator,\n",
        "                              callbacks=[checkpoint])"
      ],
      "execution_count": 8,
      "outputs": [
        {
          "output_type": "stream",
          "text": [
            "/usr/local/lib/python3.7/dist-packages/keras/engine/training.py:1915: UserWarning: `Model.fit_generator` is deprecated and will be removed in a future version. Please use `Model.fit`, which supports generators.\n",
            "  warnings.warn('`Model.fit_generator` is deprecated and '\n"
          ],
          "name": "stderr"
        },
        {
          "output_type": "stream",
          "text": [
            "Epoch 1/10\n",
            "119/119 [==============================] - 333s 3s/step - loss: 0.7724 - acc: 0.6104 - val_loss: 0.6961 - val_acc: 0.4839\n",
            "INFO:tensorflow:Assets written to: model2-001.model/assets\n",
            "Epoch 2/10\n",
            "119/119 [==============================] - 152s 1s/step - loss: 0.6906 - acc: 0.5021 - val_loss: 0.3629 - val_acc: 0.8976\n",
            "INFO:tensorflow:Assets written to: model2-002.model/assets\n",
            "Epoch 3/10\n",
            "119/119 [==============================] - 152s 1s/step - loss: 0.4125 - acc: 0.8336 - val_loss: 0.1651 - val_acc: 0.9577\n",
            "INFO:tensorflow:Assets written to: model2-003.model/assets\n",
            "Epoch 4/10\n",
            "119/119 [==============================] - 151s 1s/step - loss: 0.2817 - acc: 0.8942 - val_loss: 0.1410 - val_acc: 0.9501\n",
            "INFO:tensorflow:Assets written to: model2-004.model/assets\n",
            "Epoch 5/10\n",
            "119/119 [==============================] - 150s 1s/step - loss: 0.2525 - acc: 0.8914 - val_loss: 0.1175 - val_acc: 0.9577\n",
            "INFO:tensorflow:Assets written to: model2-005.model/assets\n",
            "Epoch 6/10\n",
            "119/119 [==============================] - 149s 1s/step - loss: 0.2315 - acc: 0.9083 - val_loss: 0.1984 - val_acc: 0.9602\n",
            "Epoch 7/10\n",
            "119/119 [==============================] - 149s 1s/step - loss: 0.2274 - acc: 0.9142 - val_loss: 0.1035 - val_acc: 0.9628\n",
            "INFO:tensorflow:Assets written to: model2-007.model/assets\n",
            "Epoch 8/10\n",
            "119/119 [==============================] - 150s 1s/step - loss: 0.1677 - acc: 0.9380 - val_loss: 0.0956 - val_acc: 0.9746\n",
            "INFO:tensorflow:Assets written to: model2-008.model/assets\n",
            "Epoch 9/10\n",
            "119/119 [==============================] - 150s 1s/step - loss: 0.1925 - acc: 0.9394 - val_loss: 0.0963 - val_acc: 0.9679\n",
            "Epoch 10/10\n",
            "119/119 [==============================] - 148s 1s/step - loss: 0.2259 - acc: 0.9183 - val_loss: 0.0857 - val_acc: 0.9738\n",
            "INFO:tensorflow:Assets written to: model2-010.model/assets\n"
          ],
          "name": "stdout"
        }
      ]
    },
    {
      "cell_type": "markdown",
      "metadata": {
        "id": "lOkybyH0JyIA"
      },
      "source": [
        "ImageDataGenerator is a very useful attribute of keras, majorily used for image agmentation i.e. when the dataa det is not large enough to train the model well , then this method has been taken in use as great way of expanding the dataset.\n",
        "**Most importatnly it lets augment images in real time when the model is itself in training.**\n",
        "  "
      ]
    },
    {
      "cell_type": "code",
      "metadata": {
        "colab": {
          "base_uri": "https://localhost:8080/"
        },
        "id": "jc8Iehi-PbNp",
        "outputId": "f030f1eb-cad0-447c-881c-c65f0e43f242"
      },
      "source": [
        "# trying the model on testing DataSet.\n",
        "\n",
        "TESTING_DIR = '/content/drive/My Drive/test'\n",
        "\n",
        "testing_generator = validation_datagen.flow_from_directory(TESTING_DIR, \n",
        "                                                         batch_size=10, \n",
        "                                                         target_size=(150, 150))\n"
      ],
      "execution_count": 10,
      "outputs": [
        {
          "output_type": "stream",
          "text": [
            "Found 190 images belonging to 2 classes.\n"
          ],
          "name": "stdout"
        }
      ]
    },
    {
      "cell_type": "code",
      "metadata": {
        "colab": {
          "base_uri": "https://localhost:8080/"
        },
        "id": "HUdbH1jdU6OM",
        "outputId": "7808e3dc-a8de-4b63-c004-63a324de959f"
      },
      "source": [
        "prediction = model.predict(testing_generator)\n",
        "len(prediction)"
      ],
      "execution_count": 14,
      "outputs": [
        {
          "output_type": "execute_result",
          "data": {
            "text/plain": [
              "190"
            ]
          },
          "metadata": {
            "tags": []
          },
          "execution_count": 14
        }
      ]
    },
    {
      "cell_type": "code",
      "metadata": {
        "id": "_55RWjDNVf5R"
      },
      "source": [
        ""
      ],
      "execution_count": null,
      "outputs": []
    }
  ]
}